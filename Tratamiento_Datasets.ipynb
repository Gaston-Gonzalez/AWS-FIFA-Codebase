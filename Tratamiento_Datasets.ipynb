{
 "cells":[
  {
   "cell_type":"code",
   "source":[
    "import pandas as pd\n",
    "                    \n",
    "def fix(x):\n",
    "    if 'M' in x:\n",
    "        x = x.replace('M', '')\n",
    "        return int(float(x) * 1000000)\n",
    "    if 'K' in x:\n",
    "        x = x.replace('K', '')\n",
    "        return int(float(x) * 1000)\n",
    "    else:\n",
    "        return int(x)\n",
    "    \n",
    "def process_dataset(fifa):\n",
    "    df = pd.read_csv(\"FIFA\" + fifa + \"_official_data.csv\")\n",
    "    df = df[['ID', 'Name', 'Age', 'Nationality', 'Overall', 'Club', 'Value', 'Position']]\n",
    "    df['Name'] = df['Name'].apply(lambda x: str(x).strip(' ') )\n",
    "    df = df[df['Club'].notna()]\n",
    "    df = df[df['Position'].notna()]\n",
    "    df['Position'] = df['Position'].apply(lambda x: str(x).split('>')[1] if len(str(x).split('>')) > 1 else None)\n",
    "    df['Value'] = df['Value'].apply(lambda x: x.replace('€', ''))\n",
    "    df['Value'] = df['Value'].apply(lambda x: fix(x))\n",
    "    df.to_csv(\"Processed_FIFA\" + fifa + \"_official_data.csv\", index=False)\n",
    "\n",
    "fifas = range(17,24,1)\n",
    "for fifa in fifas:\n",
    "    process_dataset(str(fifa))"
   ],
   "execution_count":1,
   "outputs":[
    
   ],
   "metadata":{
    "datalore":{
     "node_id":"kVYdXS6OSYae61gHpYdONS",
     "type":"CODE",
     "hide_input_from_viewers":true,
     "hide_output_from_viewers":true
    }
   }
  },
  {
   "cell_type":"code",
   "source":[
    
   ],
   "execution_count":null,
   "outputs":[
    
   ],
   "metadata":{
    "datalore":{
     "node_id":"GFZYi01DNahBwlMWfKt66I",
     "type":"CODE",
     "hide_input_from_viewers":true,
     "hide_output_from_viewers":true
    }
   }
  }
 ],
 "metadata":{
  "kernelspec":{
   "display_name":"Python",
   "language":"python",
   "name":"python"
  },
  "datalore":{
   "computation_mode":"JUPYTER",
   "package_manager":"pip",
   "base_environment":"default",
   "packages":[
    
   ],
   "report_row_ids":[
    
   ],
   "version":3
  }
 },
 "nbformat":4,
 "nbformat_minor":4
}